{
  "nbformat": 4,
  "nbformat_minor": 0,
  "metadata": {
    "coursera": {
      "course_slug": "nlp-sequence-models",
      "graded_item_id": "8hb5s",
      "launcher_item_id": "5NrJ6"
    },
    "kernelspec": {
      "display_name": "Python 3",
      "language": "python",
      "name": "python3"
    },
    "language_info": {
      "codemirror_mode": {
        "name": "ipython",
        "version": 3
      },
      "file_extension": ".py",
      "mimetype": "text/x-python",
      "name": "python",
      "nbconvert_exporter": "python",
      "pygments_lexer": "ipython3",
      "version": "3.6.0"
    },
    "colab": {
      "name": "Operations on word vectors .ipynb",
      "provenance": [],
      "toc_visible": true
    }
  },
  "cells": [
    {
      "cell_type": "markdown",
      "metadata": {
        "id": "ofLn6gg5yaAg"
      },
      "source": [
        "**References**:\n",
        "- The debiasing algorithm is from Bolukbasi et al., 2016, [Man is to Computer Programmer as Woman is to\n",
        "Homemaker? Debiasing Word Embeddings](https://papers.nips.cc/paper/6228-man-is-to-computer-programmer-as-woman-is-to-homemaker-debiasing-word-embeddings.pdf)\n"
      ]
    },
    {
      "cell_type": "markdown",
      "metadata": {
        "id": "rHL3YRfqsxV9"
      },
      "source": [
        "# Operations on word vectors\n",
        "\n",
        "\n",
        "\n",
        "- Load pre-trained word vectors, and measure similarity using cosine similarity\n",
        "- Use word embeddings to solve word analogy problems.  \n",
        "- Modify word embeddings to reduce their gender bias \n",
        "\n"
      ]
    },
    {
      "cell_type": "code",
      "metadata": {
        "id": "dQp3NeStsxV_"
      },
      "source": [
        "import numpy as np\n",
        "from w2v_utils import *"
      ],
      "execution_count": null,
      "outputs": []
    },
    {
      "cell_type": "markdown",
      "metadata": {
        "id": "nU8wAjSLsxWC"
      },
      "source": [
        "#### Load the word vectors\n",
        "*  Used 50-dimensional GloVe vectors to represent words.  "
      ]
    },
    {
      "cell_type": "code",
      "metadata": {
        "id": "fRbcnsI3sxWC"
      },
      "source": [
        "words, word_to_vec_map = read_glove_vecs('/content/glove.6B.50d.txt')"
      ],
      "execution_count": null,
      "outputs": []
    },
    {
      "cell_type": "markdown",
      "metadata": {
        "id": "bYeDyvP8sxWC"
      },
      "source": [
        "- `words`: set of words in the vocabulary.\n",
        "- `word_to_vec_map`: dictionary mapping words to their GloVe vector representation.\n",
        " "
      ]
    },
    {
      "cell_type": "markdown",
      "metadata": {
        "id": "frPjxvHgsxWC"
      },
      "source": [
        "# 1 - Cosine similarity\n",
        "\n",
        "To measure the similarity between two words, we need a way to measure the degree of similarity between two embedding vectors for the two words. Given two vectors $u$ and $v$, cosine similarity is defined as follows: \n",
        "\n",
        "$$\\text{CosineSimilarity(u, v)} = \\frac {u \\cdot v} {||u||_2 ||v||_2} = cos(\\theta) \\tag{1}$$\n",
        "\n",
        "* $u \\cdot v$ is the dot product (or inner product) of two vectors\n",
        "* $||u||_2$ is the norm (or length) of the vector $u$\n",
        "* $\\theta$ is the angle between $u$ and $v$. \n",
        "* The cosine similarity depends on the angle between $u$ and $v$. \n",
        "    * If $u$ and $v$ are very similar, their cosine similarity will be close to 1.\n",
        "    * If they are dissimilar, the cosine similarity will take a smaller value. \n",
        "\n",
        "<img src=\"images/cosine_sim.png\" style=\"width:800px;height:250px;\">\n",
        "<caption><center> **Figure 1**: The cosine of the angle between two vectors is a measure their similarity</center></caption>"
      ]
    },
    {
      "cell_type": "code",
      "metadata": {
        "id": "EDfyqlahsxWC"
      },
      "source": [
        "def cosine_similarity(u, v): \n",
        "    distance = 0.0 \n",
        "    # Dot product between u and v  \n",
        "    dot = np.dot(u,v)\n",
        "    #  L2 norm of u  \n",
        "    norm_u =np.sqrt(np.sum(np.dot(u,u))) \n",
        "    #  L2 norm of v  \n",
        "    norm_v =np.sqrt(np.sum(np.dot(v,v)))\n",
        "    # Cosine similarity  \n",
        "    cosine_similarity =dot/np.dot(norm_u,norm_v)\n",
        "    return cosine_similarity"
      ],
      "execution_count": null,
      "outputs": []
    },
    {
      "cell_type": "code",
      "metadata": {
        "id": "4xGmy2_MsxWD"
      },
      "source": [
        "father = word_to_vec_map[\"father\"]\n",
        "mother = word_to_vec_map[\"mother\"]\n",
        "ball = word_to_vec_map[\"ball\"]\n",
        "crocodile = word_to_vec_map[\"crocodile\"]\n",
        "france = word_to_vec_map[\"france\"]\n",
        "italy = word_to_vec_map[\"italy\"]\n",
        "paris = word_to_vec_map[\"paris\"]\n",
        "rome = word_to_vec_map[\"rome\"]\n",
        "\n",
        "print(\"cosine_similarity(father, mother) = \", cosine_similarity(father, mother))\n",
        "print(\"cosine_similarity(ball, crocodile) = \",cosine_similarity(ball, crocodile))\n",
        "print(\"cosine_similarity(france - paris, rome - italy) = \",cosine_similarity(france - paris, rome - italy))"
      ],
      "execution_count": null,
      "outputs": []
    },
    {
      "cell_type": "code",
      "metadata": {
        "id": "N9tGyK6_2ZDC"
      },
      "source": [
        "man = word_to_vec_map[\"man\"]\n",
        "woman = word_to_vec_map[\"woman\"]\n",
        "king = word_to_vec_map[\"king\"]\n",
        "queen = word_to_vec_map[\"queen\"]\n",
        "print(\"cosine_similarity(man - woman, king - queen) = \",cosine_similarity(man - woman, king - queen))\n",
        "print(\"cosine_similarity(man , woman) = \",cosine_similarity(man , woman))\n",
        "print(\"cosine_similarity(man , king) = \",cosine_similarity(man , king))\n",
        "print(\"cosine_similarity(man , queen) = \",cosine_similarity(man , queen))"
      ],
      "execution_count": null,
      "outputs": []
    },
    {
      "cell_type": "markdown",
      "metadata": {
        "id": "Xu-GS2FysxWG"
      },
      "source": [
        "#### Try different words!\n"
      ]
    },
    {
      "cell_type": "markdown",
      "metadata": {
        "id": "c95z1OlwsxWG"
      },
      "source": [
        "## Word analogy \n",
        "\n",
        "* In the word analogy task, we complete the sentence:  \n",
        "    <font color='brown'>\"*a* is to *b* as *c* is to **____**\"</font>. \n",
        "\n",
        "* An example is:  \n",
        "    <font color='brown'> '*man* is to *woman* as *king* is to *queen*' </font>. \n",
        "\n",
        "* We are trying to find a word *d*, such that the associated word vectors $e_a, e_b, e_c, e_d$ are related in the following manner:   \n",
        "    $e_b - e_a \\approx e_d - e_c$\n",
        "* We   measure the similarity between $e_b - e_a$ and $e_d - e_c$ using cosine similarity.  "
      ]
    },
    {
      "cell_type": "code",
      "metadata": {
        "id": "cn-WLBl2sxWG"
      },
      "source": [
        "def complete_analogy(word_a, word_b, word_c, word_to_vec_map):\n",
        "    \"\"\" \n",
        "    word_a -- a word, string\n",
        "    word_b -- a word, string\n",
        "    word_c -- a word, string\n",
        "    word_to_vec_map -- dictionary that maps words to their corresponding vectors. \n",
        "    Returns:\n",
        "    best_word --  the word such that v_b - v_a is close to v_best_word - v_c, as measured by cosine similarity\n",
        "    \"\"\"\n",
        "    # convert words to lowercase\n",
        "    word_a, word_b, word_c = word_a.lower(), word_b.lower(), word_c.lower()\n",
        "    # Get the word embeddings e_a, e_b and e_c\n",
        "    e_a, e_b, e_c = word_to_vec_map[word_a],word_to_vec_map[word_b],word_to_vec_map[word_c]\n",
        "  \n",
        "    words = word_to_vec_map.keys()\n",
        "    max_cosine_sim = -100              # Initialize max_cosine_sim to a large negative number\n",
        "    best_word = None                   # Initialize best_word with None, it will help keep track of the word to output\n",
        "\n",
        "    # to avoid best_word being one of the input words, skip the input words\n",
        "    # place the input words in a set for faster searching than a list\n",
        "    # We  re-use this set of input words inside the for-loop\n",
        "    input_words_set = set([word_a, word_b, word_c])\n",
        "    \n",
        "    # loop over the whole word vector set\n",
        "    for w in words:        \n",
        "        # to avoid best_word being one of the input words, skip the input words\n",
        "        if w in [word_a, word_b, word_c]:\n",
        "            continue \n",
        "        # Compute cosine similarity between the vector (e_b - e_a) and the vector ((w's vector representation) - e_c)   \n",
        "        cosine_sim = cosine_similarity(e_b-e_a, word_to_vec_map[w]-e_c)\n",
        "        \n",
        "        # If the cosine_sim is more than the max_cosine_sim seen so far,\n",
        "            # then: set the new max_cosine_sim to the current cosine_sim and the best_word to the current word \n",
        "        if cosine_sim > max_cosine_sim:\n",
        "            max_cosine_sim = cosine_sim\n",
        "            best_word = w \n",
        "    return best_word"
      ],
      "execution_count": null,
      "outputs": []
    },
    {
      "cell_type": "code",
      "metadata": {
        "id": "oakfae4esxWG"
      },
      "source": [
        "triads_to_try = [('small', 'smaller', 'big'),('man', 'doctor', 'women'),('italy', 'italian', 'spain'), ('india', 'delhi', 'japan'), ('man', 'woman', 'king'), ('small', 'smaller', 'large')]\n",
        "for triad in triads_to_try:\n",
        "    print ('{} -> {} :: {} -> {}'.format( *triad, complete_analogy(*triad,word_to_vec_map)))"
      ],
      "execution_count": null,
      "outputs": []
    },
    {
      "cell_type": "markdown",
      "metadata": {
        "id": "FN-rdBnysxWH"
      },
      "source": [
        "# Debiasing word vectors "
      ]
    },
    {
      "cell_type": "markdown",
      "metadata": {
        "id": "tNreQ5dIsxWH"
      },
      "source": [
        "In this i examine gender biases that can be reflected in a word embedding, and explore algorithms for reducing the bias. \n",
        "First see how the GloVe word embeddings relate to gender. First compute a vector $g = e_{woman}-e_{man}$, where $e_{woman}$ represents the word vector corresponding to the word *woman*, and $e_{man}$ corresponds to the word vector corresponding to the word *man*. The resulting vector $g$ roughly encodes the concept of \"gender\". "
      ]
    },
    {
      "cell_type": "code",
      "metadata": {
        "id": "bF0nSstOsxWH"
      },
      "source": [
        "g = word_to_vec_map['woman'] - word_to_vec_map['man']\n",
        "print(g)"
      ],
      "execution_count": null,
      "outputs": []
    },
    {
      "cell_type": "code",
      "metadata": {
        "scrolled": false,
        "id": "cpR5h0Z2sxWH"
      },
      "source": [
        "print ('List of names and their similarities with constructed vector:')\n",
        "name_list = ['john', 'marie', 'sohan', 'don', 'danielle', 'reza', 'mohan', 'katy', 'yasmin']\n",
        "\n",
        "for w in name_list:\n",
        "    print (w, cosine_similarity(word_to_vec_map[w], g))"
      ],
      "execution_count": null,
      "outputs": []
    },
    {
      "cell_type": "markdown",
      "metadata": {
        "id": "NCLjOqKasxWI"
      },
      "source": [
        "See, female first names tend to have a positive cosine similarity with our constructed vector $g$, while male first names tend to have a negative cosine similarity. This is not surprising, and the result seems acceptable. "
      ]
    },
    {
      "cell_type": "code",
      "metadata": {
        "id": "S_I7t-8AsxWI"
      },
      "source": [
        "print('Other words and their similarities:')\n",
        "word_list = ['lipstick', 'guns', 'science', 'arts', 'literature', 'warrior','doctor', 'tree', 'receptionist', \n",
        "             'technology',  'fashion', 'teacher', 'engineer', 'pilot', 'computer', 'singer']\n",
        "for w in word_list:\n",
        "    print (w, cosine_similarity(word_to_vec_map[w], g))"
      ],
      "execution_count": null,
      "outputs": []
    },
    {
      "cell_type": "markdown",
      "metadata": {
        "id": "xW27Uf8fsxWI"
      },
      "source": [
        "(https://arxiv.org/abs/1607.06520)\n",
        "### Neutralize bias for non-gender specific words \n",
        "\n",
        "The figure below should help you visualize what neutralizing does. If you're using a 50-dimensional word embedding, the 50 dimensional space can be split into two parts: The bias-direction $g$, and the remaining 49 dimensions, which we'll call $g_{\\perp}$. In linear algebra, we say that the 49 dimensional $g_{\\perp}$ is perpendicular (or \"orthogonal\") to $g$, meaning it is at 90 degrees to $g$. The neutralization step takes a vector such as $e_{receptionist}$ and zeros out the component in the direction of $g$, giving us $e_{receptionist}^{debiased}$. \n",
        "\n",
        "Even though $g_{\\perp}$ is 49 dimensional, given the limitations of what we can draw on a 2D screen, we illustrate it using a 1 dimensional axis below. \n",
        "\n",
        "<img src=\"images/neutral.png\" style=\"width:800px;height:300px;\">\n",
        "<caption><center> **Figure 2**: The word vector for \"receptionist\" represented before and after applying the neutralize operation. </center></caption>\n",
        "\n",
        "**Exercise**: Implement `neutralize()` to remove the bias of words such as \"receptionist\" or \"scientist\". Given an input embedding $e$, you can use the following formulas to compute $e^{debiased}$: \n",
        "\n",
        "$$e^{bias\\_component} = \\frac{e \\cdot g}{||g||_2^2} * g\\tag{2}$$\n",
        "$$e^{debiased} = e - e^{bias\\_component}\\tag{3}$$\n",
        "\n",
        "  $e^{bias\\_component}$ is the projection of $e$ onto the direction $g$.  \n",
        "\n",
        "<!-- \n",
        "**Reminder**: a vector $u$ can be split into two parts: its projection over a vector-axis $v_B$ and its projection over the axis orthogonal to $v$:\n",
        "$$u = u_B + u_{\\perp}$$\n",
        "where : $u_B = $ and $ u_{\\perp} = u - u_B $\n",
        "!--> "
      ]
    },
    {
      "cell_type": "code",
      "metadata": {
        "id": "xqmfihZSsxWI"
      },
      "source": [
        "def neutralize(word, g, word_to_vec_map):\n",
        "    \"\"\"  \n",
        "        word -- string indicating the word to debias\n",
        "        g -- numpy-array of shape (50,), corresponding to the bias axis (such as gender)\n",
        "        word_to_vec_map -- dictionary mapping words to their corresponding vectors.\n",
        "     \n",
        "        e_debiased -- neutralized word vector representation of the input \"word\"\n",
        "    \"\"\"\n",
        "    # Select word vector representation of \"word\". Use word_to_vec_map.  \n",
        "    e = word_to_vec_map[word]\n",
        "    \n",
        "    # Compute e_biascomponent using the formula give above.  \n",
        "    e_biascomponent = np.divide(np.dot(e,g),np.linalg.norm(g)**2) * g\n",
        " \n",
        "    # Neutralize e by subtracting e_biascomponent from it \n",
        "    # e_debiased should be equal to its orthogonal projection.\n",
        "    e_debiased = e - e_biascomponent\n",
        "\n",
        "    return e_debiased"
      ],
      "execution_count": null,
      "outputs": []
    },
    {
      "cell_type": "code",
      "metadata": {
        "id": "KgDS7-EgsxWI"
      },
      "source": [
        "e = \"receptionist\"\n",
        "print(\"cosine similarity between \" + e + \" and g, before neutralizing: \", cosine_similarity(word_to_vec_map[\"receptionist\"], g))\n",
        "\n",
        "e_debiased = neutralize(\"receptionist\", g, word_to_vec_map)\n",
        "print(\"cosine similarity between \" + e + \" and g, after neutralizing: \", cosine_similarity(e_debiased, g))"
      ],
      "execution_count": null,
      "outputs": []
    },
    {
      "cell_type": "markdown",
      "metadata": {
        "id": "S-pWskepsxWJ"
      },
      "source": [
        "### 3.2 - Equalization algorithm for gender-specific words\n",
        "\n",
        "See how debiasing can also be applied to word pairs such as \"actress\" and \"actor.\" Equalization is applied to pairs of words that you might want to have differ only through the gender property. As a concrete example, suppose that \"actress\" is closer to \"babysit\" than \"actor.\" By applying neutralizing to \"babysit\" we can reduce the gender-stereotype associated with babysitting. But this still does not guarantee that \"actor\" and \"actress\" are equidistant from \"babysit.\" The equalization algorithm takes care of this. \n",
        "\n",
        "The key idea behind equalization is to make sure that a particular pair of words are equi-distant from the 49-dimensional $g_\\perp$. The equalization step also ensures that the two equalized steps are now the same distance from $e_{receptionist}^{debiased}$, or from any other work that has been neutralized. In pictures, this is how equalization works: \n",
        "\n",
        "<img src=\"images/equalize10.png\" style=\"width:800px;height:400px;\">\n",
        "\n",
        "\n",
        "The derivation of the linear algebra to do this is a bit more complex. (See Bolukbasi et al., 2016 for details.) But the key equations are: \n",
        "\n",
        "$$ \\mu = \\frac{e_{w1} + e_{w2}}{2}\\tag{4}$$ \n",
        "\n",
        "$$ \\mu_{B} = \\frac {\\mu \\cdot \\text{bias_axis}}{||\\text{bias_axis}||_2^2} *\\text{bias_axis}\n",
        "\\tag{5}$$ \n",
        "\n",
        "$$\\mu_{\\perp} = \\mu - \\mu_{B} \\tag{6}$$\n",
        "\n",
        "$$ e_{w1B} = \\frac {e_{w1} \\cdot \\text{bias_axis}}{||\\text{bias_axis}||_2^2} *\\text{bias_axis}\n",
        "\\tag{7}$$ \n",
        "$$ e_{w2B} = \\frac {e_{w2} \\cdot \\text{bias_axis}}{||\\text{bias_axis}||_2^2} *\\text{bias_axis}\n",
        "\\tag{8}$$\n",
        "\n",
        "\n",
        "$$e_{w1B}^{corrected} = \\sqrt{ |{1 - ||\\mu_{\\perp} ||^2_2} |} * \\frac{e_{\\text{w1B}} - \\mu_B} {||(e_{w1} - \\mu_{\\perp}) - \\mu_B||} \\tag{9}$$\n",
        "\n",
        "\n",
        "$$e_{w2B}^{corrected} = \\sqrt{ |{1 - ||\\mu_{\\perp} ||^2_2} |} * \\frac{e_{\\text{w2B}} - \\mu_B} {||(e_{w2} - \\mu_{\\perp}) - \\mu_B||} \\tag{10}$$\n",
        "\n",
        "$$e_1 = e_{w1B}^{corrected} + \\mu_{\\perp} \\tag{11}$$\n",
        "$$e_2 = e_{w2B}^{corrected} + \\mu_{\\perp} \\tag{12}$$\n"
      ]
    },
    {
      "cell_type": "code",
      "metadata": {
        "id": "iLxz-FsZsxWJ"
      },
      "source": [
        "def equalize(pair, bias_axis, word_to_vec_map):\n",
        "    \"\"\" \n",
        "    pair = pair of strings of gender specific words to debias, e.g. (\"actress\", \"actor\") \n",
        "    bias_axis = numpy-array of shape (50,), vector corresponding to the bias axis, e.g. gender\n",
        "    word_to_vec_map = dictionary mapping words to their corresponding vectors\n",
        "   \n",
        "    e_1 -- word vector corresponding to the first word\n",
        "    e_2 -- word vector corresponding to the second word\n",
        "    \"\"\"\n",
        "    # Select word vector representation of \"word\". Use word_to_vec_map.  \n",
        "    w1, w2 = pair[0], pair[1]\n",
        "    e_w1, e_w2 = word_to_vec_map[w1], word_to_vec_map[w2]\n",
        "    \n",
        "    #  Compute the mean of e_w1 and e_w2  \n",
        "    mu = (e_w1 + e_w2)/2\n",
        "\n",
        "    #Compute the projections of mu over the bias axis and the orthogonal axis  \n",
        "    mu_B = (np.dot(mu, bias_axis)/np.linalg.norm(bias_axis)**2)*bias_axis\n",
        "    mu_orth = mu - mu_B\n",
        "\n",
        "    # Use equations (7) and (8) to compute e_w1B and e_w2B  \n",
        "    e_w1B = (np.dot(e_w1, bias_axis)*np.linalg.norm(bias_axis)**2)*bias_axis\n",
        "    e_w2B = (np.dot(e_w2, bias_axis)*np.linalg.norm(bias_axis)**2)*bias_axis\n",
        "        \n",
        "    #  Adjust the Bias part of e_w1B and e_w2B using the formulas (9) and (10) given above  \n",
        "    corrected_e_w1B = np.sqrt(1 - np.linalg.norm(mu_orth)**2)*((e_w1B - mu_B)/np.abs((e_w1 - mu_orth) - mu_B))\n",
        "    corrected_e_w2B = np.sqrt(1 - np.linalg.norm(mu_orth)**2)*((e_w2B - mu_B)/np.abs((e_w2 - mu_orth) - mu_B))\n",
        "\n",
        "    # Debias by equalizing e1 and e2 to the sum of their corrected projections \n",
        "    e1 = corrected_e_w1B + mu_orth\n",
        "    e2 = corrected_e_w2B + mu_orth\n",
        "    return e1, e2"
      ],
      "execution_count": null,
      "outputs": []
    },
    {
      "cell_type": "code",
      "metadata": {
        "scrolled": true,
        "id": "rqCD2hhlsxWJ"
      },
      "source": [
        "print(\"cosine similarities before equalizing:\")\n",
        "print(\"cosine_similarity(word_to_vec_map[\\\"man\\\"], gender) = \", cosine_similarity(word_to_vec_map[\"man\"], g))\n",
        "print(\"cosine_similarity(word_to_vec_map[\\\"woman\\\"], gender) = \", cosine_similarity(word_to_vec_map[\"woman\"], g))\n",
        "print()\n",
        "e1, e2 = equalize((\"man\", \"woman\"), g, word_to_vec_map)\n",
        "print(\"cosine similarities after equalizing:\")\n",
        "print(\"cosine_similarity(e1, gender) = \", cosine_similarity(e1, g))\n",
        "print(\"cosine_similarity(e2, gender) = \", cosine_similarity(e2, g))"
      ],
      "execution_count": null,
      "outputs": []
    }
  ]
}